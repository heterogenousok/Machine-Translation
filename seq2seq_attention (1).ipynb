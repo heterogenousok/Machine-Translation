{
  "nbformat": 4,
  "nbformat_minor": 0,
  "metadata": {
    "kernelspec": {
      "display_name": "Python 3",
      "language": "python",
      "name": "python3"
    },
    "language_info": {
      "codemirror_mode": {
        "name": "ipython",
        "version": 3
      },
      "file_extension": ".py",
      "mimetype": "text/x-python",
      "name": "python",
      "nbconvert_exporter": "python",
      "pygments_lexer": "ipython3",
      "version": "3.6.9"
    },
    "colab": {
      "name": "seq2seq_attention.ipynb",
      "provenance": [],
      "collapsed_sections": []
    },
    "accelerator": "GPU"
  },
  "cells": [
    {
      "cell_type": "code",
      "metadata": {
        "colab": {
          "base_uri": "https://localhost:8080/"
        },
        "id": "mtOZQLGBF-2q",
        "outputId": "111468ee-7a2d-4ea5-82e1-eab6fc62dfa0"
      },
      "source": [
        "%matplotlib inline\n",
        "import matplotlib as mpl\n",
        "import matplotlib.pyplot as plt\n",
        "import numpy as np\n",
        "import os\n",
        "import pandas as pd\n",
        "import sklearn\n",
        "import sys\n",
        "import tensorflow as tf\n",
        "import time\n",
        "\n",
        "from tensorflow import keras\n",
        "\n",
        "print(tf.__version__)\n",
        "print(sys.version_info)\n",
        "for module in mpl, np, pd, sklearn, tf, keras:\n",
        "    print(module.__name__, module.__version__)"
      ],
      "execution_count": 36,
      "outputs": [
        {
          "output_type": "stream",
          "text": [
            "2.5.0\n",
            "sys.version_info(major=3, minor=7, micro=11, releaselevel='final', serial=0)\n",
            "matplotlib 3.2.2\n",
            "numpy 1.19.5\n",
            "pandas 1.1.5\n",
            "sklearn 0.22.2.post1\n",
            "tensorflow 2.5.0\n",
            "tensorflow.keras 2.5.0\n"
          ],
          "name": "stdout"
        }
      ]
    },
    {
      "cell_type": "markdown",
      "metadata": {
        "id": "TWrMKv-1F_r8"
      },
      "source": [
        "# 新段落"
      ]
    },
    {
      "cell_type": "code",
      "metadata": {
        "id": "RWn0kbWsF-2u"
      },
      "source": [
        "import unicodedata\n",
        "import re\n",
        "from sklearn.model_selection import train_test_split"
      ],
      "execution_count": 37,
      "outputs": []
    },
    {
      "cell_type": "code",
      "metadata": {
        "colab": {
          "base_uri": "https://localhost:8080/"
        },
        "id": "ubVA3WlxF-2v",
        "outputId": "64864723-c59b-4b88-e0cc-1fd6c0a980a7"
      },
      "source": [
        "#因为西班牙语有一些是特殊字符，所以我们需要unicode转ascii，\n",
        "# 这样值变小了，因为unicode太大\n",
        "def unicode_to_ascii(s):\n",
        "    #NFD是转换方法，把每一个字节拆开，Mn是重音，所以去除\n",
        "    return ''.join(c for c in unicodedata.normalize('NFD', s) if unicodedata.category(c) != 'Mn')\n",
        "\n",
        "#下面我们找个样本测试一下\n",
        "\n",
        "en_sentence = u\"May I borrow this book?\"\n",
        "sp_sentence = u\"¿Puedo tomar prestado este libro?\"\n",
        "\n",
        "print(unicode_to_ascii(en_sentence))\n",
        "print(unicode_to_ascii(sp_sentence))\n",
        "\n",
        "\n",
        "def preprocess_sentence(w):\n",
        "    #变为小写，去掉多余的空格\n",
        "    w = unicode_to_ascii(w.lower().strip())\n",
        "\n",
        "    # 在单词与跟在其后的标点符号之间插入一个空格\n",
        "    # eg: \"he is a boy.\" => \"he is a boy .\"\n",
        "    # Reference:- https://stackoverflow.com/questions/3645931/python-padding-punctuation-with-white-spaces-keeping-punctuation\n",
        "    w = re.sub(r\"([?.!,¿])\", r\" \\1 \", w)\n",
        "    #因为可能有多余空格，所以处理一下\n",
        "    w = re.sub(r'[\" \"]+', \" \", w)\n",
        "\n",
        "    # 除了 (a-z, A-Z, \".\", \"?\", \"!\", \",\")，将所有字符替换为空格\n",
        "    w = re.sub(r\"[^a-zA-Z?.!,¿]+\", \" \", w)\n",
        "\n",
        "    w = w.rstrip().strip()\n",
        "\n",
        "    # adding a start and an end token to the sentence\n",
        "    # so that the model know when to start and stop predicting.\n",
        "    w = '<start> ' + w + ' <end>'\n",
        "    return w\n",
        "\n",
        "print(preprocess_sentence(en_sentence))\n",
        "print(preprocess_sentence(sp_sentence))\n",
        "print(preprocess_sentence(sp_sentence).encode('utf-8'))"
      ],
      "execution_count": 38,
      "outputs": [
        {
          "output_type": "stream",
          "text": [
            "May I borrow this book?\n",
            "¿Puedo tomar prestado este libro?\n",
            "<start> may i borrow this book ? <end>\n",
            "<start> ¿ puedo tomar prestado este libro ? <end>\n",
            "b'<start> \\xc2\\xbf puedo tomar prestado este libro ? <end>'\n"
          ],
          "name": "stdout"
        }
      ]
    },
    {
      "cell_type": "code",
      "metadata": {
        "colab": {
          "base_uri": "https://localhost:8080/"
        },
        "id": "5sDDIk9PJwvz",
        "outputId": "2d1a2768-84cb-451d-a1bb-456c18647cdb"
      },
      "source": [
        "!ls"
      ],
      "execution_count": 39,
      "outputs": [
        {
          "output_type": "stream",
          "text": [
            "8-1_checkpoints  sample_data  spa.txt\n"
          ],
          "name": "stdout"
        }
      ]
    },
    {
      "cell_type": "code",
      "metadata": {
        "colab": {
          "base_uri": "https://localhost:8080/"
        },
        "id": "sWxKqombMn1b",
        "outputId": "4f44086e-a970-4431-c070-238a1ba7f143"
      },
      "source": [
        "list(zip(*[[1,2],[3,4],[5,6]]))"
      ],
      "execution_count": 40,
      "outputs": [
        {
          "output_type": "execute_result",
          "data": {
            "text/plain": [
              "[(1, 3, 5), (2, 4, 6)]"
            ]
          },
          "metadata": {
            "tags": []
          },
          "execution_count": 40
        }
      ]
    },
    {
      "cell_type": "code",
      "metadata": {
        "colab": {
          "base_uri": "https://localhost:8080/"
        },
        "id": "Rx8IbdOCF-2w",
        "outputId": "3014fe6e-55ea-4226-c50a-0c68871c75e2"
      },
      "source": [
        "data_path = './spa.txt'\n",
        "\n",
        "# 1. Remove the accents  移除口音\n",
        "# 2. Clean the sentences\n",
        "# 3. Return word pairs in the format: [ENGLISH, SPANISH]--> 前面西班牙，后面英文\n",
        "def create_dataset(path, num_examples):\n",
        "    #每一行在列表中就是一个元素\n",
        "    lines = open(path, encoding='UTF-8').read().strip().split('\\n')\n",
        "\n",
        "    word_pairs = [[preprocess_sentence(w) for w in l.split('\\t')]  for l in lines[:num_examples]]\n",
        "\n",
        "    return zip(*word_pairs)\n",
        "\n",
        "en, sp = create_dataset(data_path, 30000)  #所有英语语料集放在en，西班牙语放在sp里边\n",
        "print(type(en))\n",
        "print(type(sp))\n",
        "len(en)\n",
        "print(en[-1])\n",
        "print(sp[-1])\n"
      ],
      "execution_count": 41,
      "outputs": [
        {
          "output_type": "stream",
          "text": [
            "<class 'tuple'>\n",
            "<class 'tuple'>\n",
            "<start> we ll see you at . <end>\n",
            "<start> te veremos a las dos y media . <end>\n"
          ],
          "name": "stdout"
        }
      ]
    },
    {
      "cell_type": "code",
      "metadata": {
        "colab": {
          "base_uri": "https://localhost:8080/"
        },
        "id": "4vugWj1_F-2x",
        "outputId": "336f75d4-f744-4093-be45-98fcc12cfd37"
      },
      "source": [
        "#如何理解上面的zip\n",
        "a=[ [1, 2],[3,4],[5,6] ]\n",
        "c,d=zip(*a)\n",
        "print(c,d)\n"
      ],
      "execution_count": 42,
      "outputs": [
        {
          "output_type": "stream",
          "text": [
            "(1, 3, 5) (2, 4, 6)\n"
          ],
          "name": "stdout"
        }
      ]
    },
    {
      "cell_type": "code",
      "metadata": {
        "colab": {
          "base_uri": "https://localhost:8080/"
        },
        "id": "dZaYKoPJF-2x",
        "outputId": "2905fda4-1b03-45ec-d530-b37679967d36"
      },
      "source": [
        "def max_length(tensor):\n",
        "    return max(len(t) for t in tensor)\n",
        "#把单词变为id，同时增加padding\n",
        "def tokenize(lang):\n",
        "    #Tokenizer帮我们把词语式的转换为id式的，filters是黑名单\n",
        "    lang_tokenizer = tf.keras.preprocessing.text.Tokenizer(filters='')\n",
        "    lang_tokenizer.fit_on_texts(lang) #提取的过程\n",
        "    #text会变为id\n",
        "    tensor = lang_tokenizer.texts_to_sequences(lang)\n",
        "    #做padding\n",
        "    tensor = tf.keras.preprocessing.sequence.pad_sequences(tensor, padding='post')\n",
        "    return tensor, lang_tokenizer\n",
        "\n",
        "def load_dataset(path, num_examples=None):\n",
        "    # creating cleaned input, output pairs\n",
        "    targ_lang, inp_lang = create_dataset(path, num_examples)  #上面的create_dataset\n",
        "\n",
        "    input_tensor, inp_lang_tokenizer = tokenize(inp_lang)  #input_tensor是西班牙语的id，inp_lang_tokenizer后面需要使用的\n",
        "    target_tensor, targ_lang_tokenizer = tokenize(targ_lang)  #\n",
        "\n",
        "    return input_tensor, target_tensor, inp_lang_tokenizer, targ_lang_tokenizer\n",
        "\n",
        "# Try experimenting with the size of that dataset\n",
        "num_examples = 30000\n",
        "#inp_lang  targ_lang 是tokenizer\n",
        "input_tensor, target_tensor, inp_lang, targ_lang = load_dataset(data_path, num_examples)\n",
        "print('-'*50)\n",
        "print(input_tensor.shape, target_tensor.shape, inp_lang, targ_lang)\n",
        "print('-'*50)\n",
        "print(input_tensor[0])\n",
        "print(target_tensor[0])\n",
        "print(input_tensor[29999])\n",
        "print(target_tensor[29999])\n",
        "# Calculate max_length of the target tensors，可以看下最长的样本\n",
        "max_length_targ, max_length_inp = max_length(target_tensor), max_length(input_tensor)\n",
        "print(max_length_targ, max_length_inp)"
      ],
      "execution_count": 43,
      "outputs": [
        {
          "output_type": "stream",
          "text": [
            "--------------------------------------------------\n",
            "(30000, 16) (30000, 11) <keras_preprocessing.text.Tokenizer object at 0x7f71f774cb90> <keras_preprocessing.text.Tokenizer object at 0x7f7255a34950>\n",
            "--------------------------------------------------\n",
            "[  1 135   3   2   0   0   0   0   0   0   0   0   0   0   0   0]\n",
            "[ 1 36  3  2  0  0  0  0  0  0  0]\n",
            "[   1   23 2175   10   39   98   87  314    3    2    0    0    0    0\n",
            "    0    0]\n",
            "[ 1 16 38 72  6 55  3  2  0  0  0]\n",
            "11 16\n"
          ],
          "name": "stdout"
        }
      ]
    },
    {
      "cell_type": "code",
      "metadata": {
        "colab": {
          "base_uri": "https://localhost:8080/"
        },
        "id": "uXn1ODnAF-2y",
        "outputId": "c4eb094c-a261-49f1-fca2-f9f21d1c3a94"
      },
      "source": [
        "# Creating training and validation sets using an 80-20 split\n",
        "input_tensor_train, input_tensor_val, target_tensor_train, target_tensor_val = train_test_split(input_tensor, target_tensor, test_size=0.2,random_state=1)\n",
        "\n",
        "# Show length\n",
        "len(input_tensor_train), len(target_tensor_train), len(input_tensor_val), len(target_tensor_val)"
      ],
      "execution_count": 44,
      "outputs": [
        {
          "output_type": "execute_result",
          "data": {
            "text/plain": [
              "(24000, 24000, 6000, 6000)"
            ]
          },
          "metadata": {
            "tags": []
          },
          "execution_count": 44
        }
      ]
    },
    {
      "cell_type": "code",
      "metadata": {
        "colab": {
          "base_uri": "https://localhost:8080/"
        },
        "id": "cUNyi-NQF-20",
        "outputId": "e5c690f2-e939-4acb-c3c4-67d90f35f138"
      },
      "source": [
        "#按单词进行切分的\n",
        "def convert(lang, tensor):\n",
        "    for t in tensor:\n",
        "        #不等于0，就打印转换\n",
        "        if t != 0:\n",
        "            print (\"%d ----> %s\" % (t, lang.index_word[t]))\n",
        "            \n",
        "print(\"Input Language; index to word mapping\")\n",
        "convert(inp_lang, input_tensor_train[0])  #通过tokenizer把id变为text\n",
        "print()\n",
        "print(\"Target Language; index to word mapping\")\n",
        "convert(targ_lang, target_tensor_train[0])\n",
        "#可以发现tokenizer正常工作"
      ],
      "execution_count": 45,
      "outputs": [
        {
          "output_type": "stream",
          "text": [
            "Input Language; index to word mapping\n",
            "1 ----> <start>\n",
            "53 ----> quiero\n",
            "72 ----> ir\n",
            "269 ----> contigo\n",
            "3 ----> .\n",
            "2 ----> <end>\n",
            "\n",
            "Target Language; index to word mapping\n",
            "1 ----> <start>\n",
            "4 ----> i\n",
            "47 ----> want\n",
            "15 ----> to\n",
            "36 ----> go\n",
            "80 ----> with\n",
            "6 ----> you\n",
            "3 ----> .\n",
            "2 ----> <end>\n"
          ],
          "name": "stdout"
        }
      ]
    },
    {
      "cell_type": "code",
      "metadata": {
        "colab": {
          "base_uri": "https://localhost:8080/"
        },
        "id": "gYUSipzBF-21",
        "outputId": "976f41e6-e097-49a9-a7a7-5af0d77cda11"
      },
      "source": [
        "#分batch\n",
        "BUFFER_SIZE = len(input_tensor_train)  #就是3万\n",
        "BATCH_SIZE = 64\n",
        "steps_per_epoch = len(input_tensor_train)//BATCH_SIZE\n",
        "embedding_dim = 256\n",
        "units = 1024\n",
        "#输入的，加1是为了对于0的填充\n",
        "vocab_inp_size = len(inp_lang.word_index)+1\n",
        "print(vocab_inp_size)\n",
        "#输出\n",
        "vocab_tar_size = len(targ_lang.word_index)+1\n",
        "print(vocab_tar_size)\n",
        "#训练集\n",
        "dataset = tf.data.Dataset.from_tensor_slices((input_tensor_train, target_tensor_train)).shuffle(BUFFER_SIZE)\n",
        "dataset = dataset.batch(BATCH_SIZE, drop_remainder=True)\n",
        "print(dataset)"
      ],
      "execution_count": 46,
      "outputs": [
        {
          "output_type": "stream",
          "text": [
            "9414\n",
            "4935\n",
            "<BatchDataset shapes: ((64, 16), (64, 11)), types: (tf.int32, tf.int32)>\n"
          ],
          "name": "stdout"
        }
      ]
    },
    {
      "cell_type": "code",
      "metadata": {
        "colab": {
          "base_uri": "https://localhost:8080/"
        },
        "id": "IrI47O6jF-23",
        "outputId": "52ee8d36-8adc-4d17-ed5e-5bd578dc1074"
      },
      "source": [
        "#测试，看一下迭代\n",
        "example_input_batch, example_target_batch = next(iter(dataset))\n",
        "example_input_batch.shape, example_target_batch.shape"
      ],
      "execution_count": 47,
      "outputs": [
        {
          "output_type": "execute_result",
          "data": {
            "text/plain": [
              "(TensorShape([64, 16]), TensorShape([64, 11]))"
            ]
          },
          "metadata": {
            "tags": []
          },
          "execution_count": 47
        }
      ]
    },
    {
      "cell_type": "code",
      "metadata": {
        "colab": {
          "base_uri": "https://localhost:8080/"
        },
        "id": "s_gnhhfEF-24",
        "outputId": "e678e29c-d41e-4a6b-e141-c3383c877c9f"
      },
      "source": [
        "#手法和之前的类似\n",
        "class Encoder(tf.keras.Model):\n",
        "    def __init__(self, vocab_size, embedding_dim, encoding_units, batch_size):\n",
        "        super(Encoder, self).__init__()\n",
        "        self.batch_size = batch_size\n",
        "        #编码单元\n",
        "        self.encoding_units = encoding_units\n",
        "        #创建Embedding层\n",
        "        self.embedding = keras.layers.Embedding(vocab_size, embedding_dim)\n",
        "        #定义GRU层，gru是lstm变种，gru把遗忘门和输入门变为一个，因为遗忘门+输入门=1\n",
        "        #\n",
        "        self.gru = keras.layers.GRU(self.encoding_units,\n",
        "                                    return_sequences=True,\n",
        "                                    return_state=True,\n",
        "                                    recurrent_initializer='glorot_uniform')\n",
        "\n",
        "    def call(self, x, hidden):\n",
        "        x = self.embedding(x)\n",
        "        output, state = self.gru(x, initial_state = hidden)\n",
        "        return output, state\n",
        "\n",
        "    def initialize_hidden_state(self):\n",
        "        return tf.zeros((self.batch_size, self.encoding_units))\n",
        "    \n",
        "encoder = Encoder(vocab_inp_size, embedding_dim, units, BATCH_SIZE)\n",
        "#获得初始化的hidden\n",
        "sample_hidden = encoder.initialize_hidden_state()\n",
        "#获得输出和隐含状态，对encoder加括号，就会调用call\n",
        "sample_output, sample_hidden = encoder(example_input_batch, sample_hidden)\n",
        "#输出的16是长度，1024是状态的size\n",
        "print('Encoder output shape: (batch size, sequence length, units) {}'.format(sample_output.shape))\n",
        "print('Encoder Hidden state shape: (batch size, units) {}'.format(sample_hidden.shape))"
      ],
      "execution_count": 48,
      "outputs": [
        {
          "output_type": "stream",
          "text": [
            "Encoder output shape: (batch size, sequence length, units) (64, 16, 1024)\n",
            "Encoder Hidden state shape: (batch size, units) (64, 1024)\n"
          ],
          "name": "stdout"
        }
      ]
    },
    {
      "cell_type": "code",
      "metadata": {
        "colab": {
          "base_uri": "https://localhost:8080/"
        },
        "id": "obR90M4fF-24",
        "outputId": "62bda834-dc9a-4c16-ac2d-2e5a068a10e3"
      },
      "source": [
        "#理解模型中去做的运算\n",
        "encoder.variables"
      ],
      "execution_count": 49,
      "outputs": [
        {
          "output_type": "execute_result",
          "data": {
            "text/plain": [
              "[<tf.Variable 'encoder_2/embedding_5/embeddings:0' shape=(9414, 256) dtype=float32, numpy=\n",
              " array([[ 0.04052639,  0.01803826, -0.04961072, ...,  0.0402065 ,\n",
              "          0.03619694,  0.03959731],\n",
              "        [-0.01159988,  0.02840433, -0.04033406, ...,  0.01290822,\n",
              "         -0.03819864, -0.0194662 ],\n",
              "        [ 0.04376108, -0.02927834,  0.03755097, ...,  0.01492551,\n",
              "         -0.02872068,  0.04890319],\n",
              "        ...,\n",
              "        [ 0.02108837,  0.01565559,  0.02045467, ...,  0.01657638,\n",
              "          0.00504558, -0.03979783],\n",
              "        [-0.04720401,  0.00185975,  0.02732427, ...,  0.03491405,\n",
              "         -0.02022424,  0.03580972],\n",
              "        [ 0.02699428, -0.03925722, -0.0199117 , ...,  0.03078567,\n",
              "          0.0115645 ,  0.01434696]], dtype=float32)>,\n",
              " <tf.Variable 'encoder_2/gru_5/gru_cell_5/kernel:0' shape=(256, 3072) dtype=float32, numpy=\n",
              " array([[-0.02316775, -0.03724046, -0.00069578, ...,  0.01614526,\n",
              "          0.01107113, -0.01293691],\n",
              "        [-0.03862314,  0.02014733,  0.00025981, ...,  0.01814352,\n",
              "         -0.0038596 , -0.02798866],\n",
              "        [ 0.0013777 ,  0.02758793, -0.03911357, ..., -0.02871557,\n",
              "          0.00184134,  0.00367604],\n",
              "        ...,\n",
              "        [-0.01271639,  0.0399394 ,  0.03559009, ..., -0.02397908,\n",
              "          0.02525572, -0.03416465],\n",
              "        [-0.00142329,  0.02533402, -0.00851705, ...,  0.0215783 ,\n",
              "         -0.03178091, -0.03400319],\n",
              "        [-0.03584944, -0.02497653,  0.01649104, ...,  0.00086331,\n",
              "          0.02127236, -0.03874982]], dtype=float32)>,\n",
              " <tf.Variable 'encoder_2/gru_5/gru_cell_5/recurrent_kernel:0' shape=(1024, 3072) dtype=float32, numpy=\n",
              " array([[-0.0046828 ,  0.03580758,  0.00970718, ..., -0.02923395,\n",
              "         -0.01100114,  0.0204676 ],\n",
              "        [ 0.00267661, -0.01973565, -0.01640962, ...,  0.01672234,\n",
              "         -0.00454737,  0.01887965],\n",
              "        [-0.031183  , -0.03218353, -0.01263153, ..., -0.0290106 ,\n",
              "         -0.00388417, -0.0032379 ],\n",
              "        ...,\n",
              "        [-0.03566932, -0.01592353,  0.03659569, ...,  0.01322429,\n",
              "         -0.02470734, -0.00342287],\n",
              "        [ 0.00977916,  0.01685354, -0.00103846, ...,  0.01456226,\n",
              "         -0.03508581,  0.01023151],\n",
              "        [ 0.03400662, -0.01715878, -0.00105992, ..., -0.02791323,\n",
              "         -0.00510869, -0.01479086]], dtype=float32)>,\n",
              " <tf.Variable 'encoder_2/gru_5/gru_cell_5/bias:0' shape=(2, 3072) dtype=float32, numpy=\n",
              " array([[0., 0., 0., ..., 0., 0., 0.],\n",
              "        [0., 0., 0., ..., 0., 0., 0.]], dtype=float32)>]"
            ]
          },
          "metadata": {
            "tags": []
          },
          "execution_count": 49
        }
      ]
    },
    {
      "cell_type": "code",
      "metadata": {
        "colab": {
          "base_uri": "https://localhost:8080/"
        },
        "id": "_anjc8dSF-25",
        "outputId": "480504c5-e638-4502-a472-63638ee6060d"
      },
      "source": [
        "#实现Attention机制\n",
        "class BahdanauAttention(tf.keras.Model):\n",
        "    def __init__(self, units):\n",
        "        super(BahdanauAttention, self).__init__()\n",
        "        #做全连接\n",
        "        self.W1 = tf.keras.layers.Dense(units)\n",
        "        self.W2 = tf.keras.layers.Dense(units)\n",
        "        self.V = tf.keras.layers.Dense(1)\n",
        "    \n",
        "    #query传的是decoder_ hidden\n",
        "    def call(self, query, values):\n",
        "        # deocoder_ hidden. shape: (batch_ size,units )\n",
        "        # encoder outputs.shape: ( batch size, length,units )\n",
        "        #做维度扩展，扩展前后对比是下面两行\n",
        "        # hidden shape == (batch_size, hidden size)\n",
        "        # hidden_with_time_axis shape == (batch_size, 1, hidden size)\n",
        "        # we are doing this to perform addition to calculate the score\n",
        "        hidden_with_time_axis = tf.expand_dims(query, 1)\n",
        "        \n",
        "        #接下来要实现Attention,Bahdanau方式的\n",
        "        # beforeV:(batch_ size,length,units )\n",
        "        # after V( batch_ size,length,1)\n",
        "        # score shape == (batch_size, max_length, 1)\n",
        "        # we get 1 at the last axis because we are applying score to self.V\n",
        "        # the shape of the tensor before applying self.V is (batch_size, max_length, units)\n",
        "        score = self.V(tf.nn.tanh(self.W1(values) + self.W2(hidden_with_time_axis)))\n",
        "\n",
        "        # attention_weights shape == (batch_size, max_length, 1)\n",
        "        attention_weights = tf.nn.softmax(score, axis=1)\n",
        "\n",
        "        #先算加权，values就是encoder_outputs\n",
        "        # context_vector.shape: ( batch size, length units )\n",
        "        context_vector = attention_weights * values\n",
        "        # print(context_vector.shape)\n",
        "        #在length的维度去求和\n",
        "        # context_vector shape after sum == (batch_size, hidden_size)\n",
        "        context_vector = tf.reduce_sum(context_vector, axis=1)\n",
        "\n",
        "        return context_vector, attention_weights\n",
        "    \n",
        "attention_layer = BahdanauAttention(10)\n",
        "attention_result, attention_weights = attention_layer(sample_hidden, sample_output)\n",
        "\n",
        "print(\"Attention result shape: (batch size, units) {}\".format(attention_result.shape))\n",
        "print(\"Attention weights shape: (batch_size, sequence_length, 1) {}\".format(attention_weights.shape))"
      ],
      "execution_count": 50,
      "outputs": [
        {
          "output_type": "stream",
          "text": [
            "Attention result shape: (batch size, units) (64, 1024)\n",
            "Attention weights shape: (batch_size, sequence_length, 1) (64, 16, 1)\n"
          ],
          "name": "stdout"
        }
      ]
    },
    {
      "cell_type": "code",
      "metadata": {
        "colab": {
          "base_uri": "https://localhost:8080/"
        },
        "id": "SkfxMUWXF-26",
        "outputId": "c58f1651-ad88-4829-e492-e6056eb8e1ed"
      },
      "source": [
        "attention_layer.variables"
      ],
      "execution_count": 51,
      "outputs": [
        {
          "output_type": "execute_result",
          "data": {
            "text/plain": [
              "[<tf.Variable 'bahdanau_attention_5/dense_18/kernel:0' shape=(1024, 10) dtype=float32, numpy=\n",
              " array([[ 0.07223897,  0.01506744,  0.03008816, ..., -0.03833292,\n",
              "         -0.04927295, -0.07279775],\n",
              "        [ 0.07380407, -0.05921623, -0.00688946, ...,  0.04153791,\n",
              "          0.02634648, -0.03771466],\n",
              "        [ 0.07299037,  0.06669419, -0.0109436 , ..., -0.06361956,\n",
              "          0.07494099, -0.06264533],\n",
              "        ...,\n",
              "        [-0.04482927,  0.04413758,  0.03248977, ..., -0.01064533,\n",
              "          0.03130363, -0.02761006],\n",
              "        [-0.03393735, -0.06770609,  0.04458857, ...,  0.01335265,\n",
              "         -0.03186403,  0.02174255],\n",
              "        [-0.06814168, -0.05552623, -0.05991594, ...,  0.01839887,\n",
              "          0.00930812,  0.01312785]], dtype=float32)>,\n",
              " <tf.Variable 'bahdanau_attention_5/dense_18/bias:0' shape=(10,) dtype=float32, numpy=array([0., 0., 0., 0., 0., 0., 0., 0., 0., 0.], dtype=float32)>,\n",
              " <tf.Variable 'bahdanau_attention_5/dense_19/kernel:0' shape=(1024, 10) dtype=float32, numpy=\n",
              " array([[-0.07325158,  0.01256371,  0.06699127, ..., -0.01328193,\n",
              "          0.06046818,  0.05800842],\n",
              "        [-0.07343176, -0.03656973,  0.0712322 , ..., -0.06045901,\n",
              "         -0.02380883,  0.02396772],\n",
              "        [ 0.0384068 ,  0.01158093,  0.0634449 , ..., -0.00199689,\n",
              "          0.01532184,  0.01820584],\n",
              "        ...,\n",
              "        [-0.05989271, -0.07035279,  0.04005864, ..., -0.07045069,\n",
              "         -0.07515733, -0.02166498],\n",
              "        [-0.07416934,  0.0662616 , -0.03669259, ...,  0.05818376,\n",
              "         -0.01358392,  0.04430699],\n",
              "        [-0.0558866 ,  0.03016491,  0.06490584, ..., -0.07575049,\n",
              "         -0.01265733, -0.01340083]], dtype=float32)>,\n",
              " <tf.Variable 'bahdanau_attention_5/dense_19/bias:0' shape=(10,) dtype=float32, numpy=array([0., 0., 0., 0., 0., 0., 0., 0., 0., 0.], dtype=float32)>,\n",
              " <tf.Variable 'bahdanau_attention_5/dense_20/kernel:0' shape=(10, 1) dtype=float32, numpy=\n",
              " array([[-0.5553473 ],\n",
              "        [-0.56406784],\n",
              "        [ 0.5000619 ],\n",
              "        [ 0.44390947],\n",
              "        [ 0.5833716 ],\n",
              "        [ 0.44259804],\n",
              "        [-0.45259625],\n",
              "        [ 0.34998256],\n",
              "        [-0.3959334 ],\n",
              "        [ 0.7132756 ]], dtype=float32)>,\n",
              " <tf.Variable 'bahdanau_attention_5/dense_20/bias:0' shape=(1,) dtype=float32, numpy=array([0.], dtype=float32)>]"
            ]
          },
          "metadata": {
            "tags": []
          },
          "execution_count": 51
        }
      ]
    },
    {
      "cell_type": "code",
      "metadata": {
        "scrolled": true,
        "colab": {
          "base_uri": "https://localhost:8080/"
        },
        "id": "BQsCWUyOF-26",
        "outputId": "ad67d635-484e-4d69-b985-d977c2961563"
      },
      "source": [
        "#接着我们实现decoder\n",
        "class Decoder(tf.keras.Model):\n",
        "    #init传参和encoder很像\n",
        "    def __init__(self, vocab_size, embedding_dim, decoding_units, batch_size):\n",
        "        #这里必须调用父类\n",
        "        super(Decoder, self).__init__()\n",
        "        self.batch_size = batch_size\n",
        "        self.decoding_units = decoding_units\n",
        "        #Embedding 层\n",
        "        self.embedding = keras.layers.Embedding(vocab_size, embedding_dim)\n",
        "        #GRU的decoder\n",
        "        self.gru = keras.layers.GRU(self.decoding_units,\n",
        "                                    return_sequences=True,\n",
        "                                    return_state=True,\n",
        "                                    recurrent_initializer='glorot_uniform')\n",
        "        self.fc = keras.layers.Dense(vocab_size)\n",
        "\n",
        "        # used for attention，每一步都会被调用\n",
        "        self.attention = BahdanauAttention(self.decoding_units)\n",
        "\n",
        "    #照着原来的原理图理解\n",
        "    def call(self, x, hidden, encoding_output):\n",
        "        # context vector. shape: ( batch size, units）\n",
        "        # enc_output shape == (batch_size, max_length, hidden_size)\n",
        "        context_vector, attention_weights = self.attention(hidden, encoding_output)\n",
        "\n",
        "        # before embedding: x. shape: (batch_ size, 1 )\n",
        "        # after embedding : x. shape: (batch size, 1， embedding units)\n",
        "        # x shape after passing through embedding == (batch_size, 1, embedding_dim)\n",
        "        x = self.embedding(x)\n",
        "        # print(context_vector.shape,x.shape)  #为了理解\n",
        "        #把x和context_vector拼起来，context_vector为什么要扩展维度？\n",
        "        # x shape after concatenation == (batch_size, 1, embedding_dim + hidden_size)\n",
        "        x = tf.concat([tf.expand_dims(context_vector, 1), x], axis=-1)\n",
        "        # print(x.shape)#为了理解\n",
        "        # passing the concatenated vector to the GRU\n",
        "        # output. shape:[batch_size,1,decoding_units ]\n",
        "        #state. shape:[batch_size, decoding_units ]\n",
        "        output, state = self.gru(x)\n",
        "        # print(output.shape)#为了理解\n",
        "        # output shape == (batch_size * 1, hidden_size)\n",
        "        output = tf.reshape(output, (-1, output.shape[2]))\n",
        "        # print('output变换后')\n",
        "        # print(output.shape)\n",
        "        # output shape == (batch_size, vocab)\n",
        "        x = self.fc(output)\n",
        "\n",
        "        return x, state, attention_weights\n",
        "\n",
        "decoder = Decoder(vocab_tar_size, embedding_dim, units, BATCH_SIZE)\n",
        "sample_decoder_output,decoder_hidden,decoder_aw = decoder(tf.random.uniform((64, 1)),\n",
        "                                      sample_hidden, sample_output)\n",
        "print ('Decoder output shape: (batch_size, vocab size) {}'.format(sample_decoder_output.shape))\n",
        "print( \"decoder_hidden.shape: \",decoder_hidden.shape )\n",
        "print( \"decoder_attention_weights.shape:\",decoder_aw.shape )\n"
      ],
      "execution_count": 52,
      "outputs": [
        {
          "output_type": "stream",
          "text": [
            "Decoder output shape: (batch_size, vocab size) (64, 4935)\n",
            "decoder_hidden.shape:  (64, 1024)\n",
            "decoder_attention_weights.shape: (64, 16, 1)\n"
          ],
          "name": "stdout"
        }
      ]
    },
    {
      "cell_type": "code",
      "metadata": {
        "id": "o0QFot7pF-26"
      },
      "source": [
        "#我们用的优化器是adam\n",
        "optimizer = keras.optimizers.Adam()\n",
        "#分类问题我们往往用SparseCategoricalCrossentropy，因为我们的fc是纯的输出，没有加softmax，\n",
        "# 因此这里的from_logits为True，否则改为false，reduction是损失函数如何做聚合\n",
        "loss_object = keras.losses.SparseCategoricalCrossentropy(from_logits=True, reduction='none')\n",
        "\n",
        "def loss_function(real, pred):\n",
        "    #是零的时候返回结果是True，因此要取反操作\n",
        "    #tf.math.equal(real, 0)是padding的部分都是1，不是padding的部分都是零，因此我们要取反\n",
        "    mask = tf.math.logical_not(tf.math.equal(real, 0))\n",
        "    \n",
        "    loss_ = loss_object(real, pred)\n",
        "    #将张量转换为新类型,变为float类型\n",
        "    mask = tf.cast(mask, dtype=loss_.dtype)\n",
        "    #padding部分的mask是零\n",
        "    loss_ *= mask\n",
        "    #计算累计的损失平均\n",
        "    return tf.reduce_mean(loss_)\n",
        "\n",
        "checkpoint_dir = './8-1_checkpoints'\n",
        "if not os.path.exists(checkpoint_dir):\n",
        "    os.mkdir(checkpoint_dir)\n",
        "checkpoint_prefix = os.path.join(checkpoint_dir, \"ckpt\")\n",
        "checkpoint = tf.train.Checkpoint(optimizer=optimizer,\n",
        "                                 encoder=encoder,\n",
        "                                 decoder=decoder)"
      ],
      "execution_count": 53,
      "outputs": []
    },
    {
      "cell_type": "code",
      "metadata": {
        "colab": {
          "base_uri": "https://localhost:8080/"
        },
        "id": "TYTvpxRjed6T",
        "outputId": "3e8793a6-5064-4676-fd9e-bd54bcadc9f2"
      },
      "source": [
        "tf.math.logical_not(tf.math.equal([12,13,67,0,0], 0))"
      ],
      "execution_count": 54,
      "outputs": [
        {
          "output_type": "execute_result",
          "data": {
            "text/plain": [
              "<tf.Tensor: shape=(5,), dtype=bool, numpy=array([ True,  True,  True, False, False])>"
            ]
          },
          "metadata": {
            "tags": []
          },
          "execution_count": 54
        }
      ]
    },
    {
      "cell_type": "code",
      "metadata": {
        "colab": {
          "base_uri": "https://localhost:8080/"
        },
        "id": "1-BfTtLGF-27",
        "outputId": "b362ab61-9341-48ea-c8cc-a2122f5118dd"
      },
      "source": [
        "tf.expand_dims([targ_lang.word_index['<start>']] * BATCH_SIZE, 1)"
      ],
      "execution_count": 55,
      "outputs": [
        {
          "output_type": "execute_result",
          "data": {
            "text/plain": [
              "<tf.Tensor: shape=(64, 1), dtype=int32, numpy=\n",
              "array([[1],\n",
              "       [1],\n",
              "       [1],\n",
              "       [1],\n",
              "       [1],\n",
              "       [1],\n",
              "       [1],\n",
              "       [1],\n",
              "       [1],\n",
              "       [1],\n",
              "       [1],\n",
              "       [1],\n",
              "       [1],\n",
              "       [1],\n",
              "       [1],\n",
              "       [1],\n",
              "       [1],\n",
              "       [1],\n",
              "       [1],\n",
              "       [1],\n",
              "       [1],\n",
              "       [1],\n",
              "       [1],\n",
              "       [1],\n",
              "       [1],\n",
              "       [1],\n",
              "       [1],\n",
              "       [1],\n",
              "       [1],\n",
              "       [1],\n",
              "       [1],\n",
              "       [1],\n",
              "       [1],\n",
              "       [1],\n",
              "       [1],\n",
              "       [1],\n",
              "       [1],\n",
              "       [1],\n",
              "       [1],\n",
              "       [1],\n",
              "       [1],\n",
              "       [1],\n",
              "       [1],\n",
              "       [1],\n",
              "       [1],\n",
              "       [1],\n",
              "       [1],\n",
              "       [1],\n",
              "       [1],\n",
              "       [1],\n",
              "       [1],\n",
              "       [1],\n",
              "       [1],\n",
              "       [1],\n",
              "       [1],\n",
              "       [1],\n",
              "       [1],\n",
              "       [1],\n",
              "       [1],\n",
              "       [1],\n",
              "       [1],\n",
              "       [1],\n",
              "       [1],\n",
              "       [1]], dtype=int32)>"
            ]
          },
          "metadata": {
            "tags": []
          },
          "execution_count": 55
        }
      ]
    },
    {
      "cell_type": "code",
      "metadata": {
        "id": "_wETydLjF-27"
      },
      "source": [
        "@tf.function\n",
        "def train_step(inp, targ, encoding_hidden):\n",
        "    loss = 0\n",
        "\n",
        "    with tf.GradientTape() as tape:\n",
        "        #把输入给encoder，得到encoding_output, encoding_hidden\n",
        "        encoding_output, encoding_hidden = encoder(inp, encoding_hidden)\n",
        "\n",
        "        decoding_hidden = encoding_hidden\n",
        "        #第一次给进去的decoding_input全部是1，是64个1\n",
        "        decoding_input = tf.expand_dims([targ_lang.word_index['<start>']] * BATCH_SIZE, 1)\n",
        "        \n",
        "        #eg: <start> I am here <end>\n",
        "        #1.<start>->I\n",
        "        #2.I->am\n",
        "        #3.am->here\n",
        "        # 4. here ->< end>\n",
        "        #对于here，我们相当于要把I am  的信息都要给过去\n",
        "        # Teacher forcing - feeding the target as the next input\n",
        "        for t in range(1, targ.shape[1]):\n",
        "            # passing enc_output to the decoder\n",
        "            #根据我们前面的原理解析，我们这里需要给3项信息\n",
        "            predictions, decoding_hidden, _ = decoder(decoding_input, decoding_hidden, encoding_output)\n",
        "\n",
        "            loss += loss_function(targ[:, t], predictions)\n",
        "\n",
        "            # using teacher forcing\n",
        "            decoding_input = tf.expand_dims(targ[:, t], 1)\n",
        "            \n",
        "    #这里是每个batch上平均的损失函数\n",
        "    batch_loss = (loss / int(targ.shape[1]))\n",
        "    #因为继承了model类，所以可以拿到trainable_variables\n",
        "    variables = encoder.trainable_variables + decoder.trainable_variables\n",
        "    #求梯度\n",
        "    gradients = tape.gradient(loss, variables)\n",
        "    #有了梯度以后，可以用optimizer去做apply\n",
        "    optimizer.apply_gradients(zip(gradients, variables))\n",
        "    return batch_loss"
      ],
      "execution_count": 56,
      "outputs": []
    },
    {
      "cell_type": "code",
      "metadata": {
        "colab": {
          "base_uri": "https://localhost:8080/"
        },
        "id": "z7vFrLzzF-27",
        "outputId": "4727ada3-5068-4c9c-fbdc-d3160768786e"
      },
      "source": [
        "steps_per_epoch"
      ],
      "execution_count": 57,
      "outputs": [
        {
          "output_type": "execute_result",
          "data": {
            "text/plain": [
              "375"
            ]
          },
          "metadata": {
            "tags": []
          },
          "execution_count": 57
        }
      ]
    },
    {
      "cell_type": "code",
      "metadata": {
        "colab": {
          "base_uri": "https://localhost:8080/"
        },
        "id": "cvp0xidWF-28",
        "outputId": "6880b520-803a-43d5-cf0a-e8ebc6e10a15"
      },
      "source": [
        "EPOCHS = 10\n",
        "#这里运行时间比较久\n",
        "for epoch in range(EPOCHS):\n",
        "    start = time.time()\n",
        "\n",
        "    encoding_hidden = encoder.initialize_hidden_state()#第一次，全零的隐含状态\n",
        "    total_loss = 0\n",
        "    #每次去取dataset.take(steps_per_epoch)这么多数据\n",
        "    for (batch, (inp, targ)) in enumerate(dataset.take(steps_per_epoch)):\n",
        "        # print(targ.shape)\n",
        "        batch_loss = train_step(inp, targ, encoding_hidden)\n",
        "        total_loss += batch_loss\n",
        "        #这里增加打印\n",
        "        if batch % 100 == 0:\n",
        "            print('Epoch {} Batch {} Loss {:.4f}'.format(epoch + 1, batch, batch_loss.numpy()))\n",
        "    # saving (checkpoint) the model every 2 epochs，保存模型\n",
        "    if (epoch + 1) % 2 == 0:\n",
        "        checkpoint.save(file_prefix = checkpoint_prefix)\n",
        "\n",
        "    print('Epoch {} Loss {:.4f}'.format(epoch + 1, total_loss / steps_per_epoch))\n",
        "    print('Time taken for 1 epoch {} sec\\n'.format(time.time() - start))"
      ],
      "execution_count": 58,
      "outputs": [
        {
          "output_type": "stream",
          "text": [
            "Epoch 1 Batch 0 Loss 4.6625\n",
            "Epoch 1 Batch 100 Loss 2.1023\n",
            "Epoch 1 Batch 200 Loss 1.8525\n",
            "Epoch 1 Batch 300 Loss 1.7416\n",
            "Epoch 1 Loss 2.0631\n",
            "Time taken for 1 epoch 46.2464325428009 sec\n",
            "\n",
            "Epoch 2 Batch 0 Loss 1.6007\n",
            "Epoch 2 Batch 100 Loss 1.5514\n",
            "Epoch 2 Batch 200 Loss 1.4265\n",
            "Epoch 2 Batch 300 Loss 1.4079\n",
            "Epoch 2 Loss 1.4560\n",
            "Time taken for 1 epoch 34.957958936691284 sec\n",
            "\n",
            "Epoch 3 Batch 0 Loss 1.1550\n",
            "Epoch 3 Batch 100 Loss 1.0865\n",
            "Epoch 3 Batch 200 Loss 1.0195\n",
            "Epoch 3 Batch 300 Loss 0.8749\n",
            "Epoch 3 Loss 1.0551\n",
            "Time taken for 1 epoch 34.750760078430176 sec\n",
            "\n",
            "Epoch 4 Batch 0 Loss 0.8121\n",
            "Epoch 4 Batch 100 Loss 0.7748\n",
            "Epoch 4 Batch 200 Loss 0.6992\n",
            "Epoch 4 Batch 300 Loss 0.6797\n",
            "Epoch 4 Loss 0.7140\n",
            "Time taken for 1 epoch 35.14546036720276 sec\n",
            "\n",
            "Epoch 5 Batch 0 Loss 0.5139\n",
            "Epoch 5 Batch 100 Loss 0.5351\n",
            "Epoch 5 Batch 200 Loss 0.4593\n",
            "Epoch 5 Batch 300 Loss 0.5044\n",
            "Epoch 5 Loss 0.4865\n",
            "Time taken for 1 epoch 34.76838779449463 sec\n",
            "\n",
            "Epoch 6 Batch 0 Loss 0.3184\n",
            "Epoch 6 Batch 100 Loss 0.3345\n",
            "Epoch 6 Batch 200 Loss 0.3127\n",
            "Epoch 6 Batch 300 Loss 0.2303\n",
            "Epoch 6 Loss 0.3353\n",
            "Time taken for 1 epoch 35.21286153793335 sec\n",
            "\n",
            "Epoch 7 Batch 0 Loss 0.2101\n",
            "Epoch 7 Batch 100 Loss 0.2076\n",
            "Epoch 7 Batch 200 Loss 0.2490\n",
            "Epoch 7 Batch 300 Loss 0.2273\n",
            "Epoch 7 Loss 0.2411\n",
            "Time taken for 1 epoch 34.76189565658569 sec\n",
            "\n",
            "Epoch 8 Batch 0 Loss 0.1797\n",
            "Epoch 8 Batch 100 Loss 0.1825\n",
            "Epoch 8 Batch 200 Loss 0.1597\n",
            "Epoch 8 Batch 300 Loss 0.2523\n",
            "Epoch 8 Loss 0.1783\n",
            "Time taken for 1 epoch 35.11515951156616 sec\n",
            "\n",
            "Epoch 9 Batch 0 Loss 0.0993\n",
            "Epoch 9 Batch 100 Loss 0.1094\n",
            "Epoch 9 Batch 200 Loss 0.1381\n",
            "Epoch 9 Batch 300 Loss 0.1648\n",
            "Epoch 9 Loss 0.1387\n",
            "Time taken for 1 epoch 34.59730529785156 sec\n",
            "\n",
            "Epoch 10 Batch 0 Loss 0.1230\n",
            "Epoch 10 Batch 100 Loss 0.1030\n",
            "Epoch 10 Batch 200 Loss 0.1558\n",
            "Epoch 10 Batch 300 Loss 0.0853\n",
            "Epoch 10 Loss 0.1102\n",
            "Time taken for 1 epoch 35.03580093383789 sec\n",
            "\n"
          ],
          "name": "stdout"
        }
      ]
    },
    {
      "cell_type": "code",
      "metadata": {
        "colab": {
          "base_uri": "https://localhost:8080/"
        },
        "id": "irztXyTnF-28",
        "outputId": "1be982f3-b78a-441a-80c3-a1d90f3b00ab"
      },
      "source": [
        "#接收字符串，并进行翻译\n",
        "def evaluate(sentence):\n",
        "    attention_plot = np.zeros((max_length_targ, max_length_inp))\n",
        "    #对输入的语言做和训练时同样的预处理后，再进行word转id\n",
        "    sentence = preprocess_sentence(sentence)\n",
        "    #text到id的转换\n",
        "    inputs = [inp_lang.word_index[i] for i in sentence.split(' ')]\n",
        "    #加padding\n",
        "    inputs = keras.preprocessing.sequence.pad_sequences([inputs], maxlen=max_length_inp, padding='post')\n",
        "    inputs = tf.convert_to_tensor(inputs)\n",
        "    #结果先初始化一个空串\n",
        "    result = ''\n",
        "\n",
        "    hidden = [tf.zeros((1, units))]\n",
        "    encoding_out, encoding_hidden = encoder(inputs, hidden)\n",
        "    #按模型把encoding_hidden给decoding_hidden\n",
        "    decoding_hidden = encoding_hidden\n",
        "    #第一次的decoding_input是全为1的（64,1)的矩阵\n",
        "    decoding_input = tf.expand_dims([targ_lang.word_index['<start>']], 0)\n",
        "    #eg:<start>->A\n",
        "    #A->B->C-> D\n",
        "    # decoding_ input. shape:(1， 1)\n",
        "    for t in range(max_length_targ):\n",
        "        predictions, decoding_hidden, attention_weights = decoder(\n",
        "            decoding_input, decoding_hidden, encoding_out)\n",
        "        \n",
        "        # attention weights. shape: (batch size, input length, 1) (1， 16， 1 )，需要变为长度为16的向量\n",
        "        # storing the attention weights to plot later on\n",
        "        attention_weights = tf.reshape(attention_weights, (-1, ))\n",
        "        attention_plot[t] = attention_weights.numpy() #为了画图\n",
        "        # predictions.shape: (batch_ size, vocab_ size) (1， 4935)\n",
        "        #获取概率最大的值作为下一步的输入\n",
        "        predicted_id = tf.argmax(predictions[0]).numpy()\n",
        "        #通过id知道单词\n",
        "        result += targ_lang.index_word[predicted_id] + ' '\n",
        "        \n",
        "        #终止循环\n",
        "        if targ_lang.index_word[predicted_id] == '<end>':\n",
        "            return result, sentence, attention_plot\n",
        "\n",
        "        # the predicted ID is fed back into the model\n",
        "        decoding_input = tf.expand_dims([predicted_id], 0)\n",
        "    #到此decoding_input，decoding_hidden我们都做了更新\n",
        "    \n",
        "    return result, sentence, attention_plot\n",
        "\n",
        "# function for plotting the attention weights，把注意力关系完成可视化\n",
        "def plot_attention(attention, sentence, predicted_sentence):\n",
        "    fig = plt.figure(figsize=(10,10))\n",
        "    ax = fig.add_subplot(1, 1, 1)\n",
        "    ax.matshow(attention, cmap='viridis')\n",
        "\n",
        "    fontdict = {'fontsize': 14}\n",
        "    #把标注写上，我们需要把第零个位置空出来，看图即可看出\n",
        "    ax.set_xticklabels([''] + sentence, fontdict=fontdict, rotation=90)\n",
        "    ax.set_yticklabels([''] + predicted_sentence, fontdict=fontdict)\n",
        "\n",
        "    plt.show()\n",
        "\n",
        "#通过这个函数，把上面两个函数串起来\n",
        "def translate(sentence):\n",
        "    result, sentence, attention_plot = evaluate(sentence)\n",
        "\n",
        "    print('Input: %s' % (sentence))\n",
        "    print('Predicted translation: {}'.format(result))\n",
        "    \n",
        "    #因为输出不一定有输入的长度长，也就是result长度小于输入的长度\n",
        "    attention_plot = attention_plot[:len(result.split(' ')), :len(sentence.split(' '))]\n",
        "    plot_attention(attention_plot, sentence.split(' '), result.split(' '))\n",
        "    \n",
        "\n",
        "checkpoint.restore(tf.train.latest_checkpoint(checkpoint_dir))"
      ],
      "execution_count": 59,
      "outputs": [
        {
          "output_type": "execute_result",
          "data": {
            "text/plain": [
              "<tensorflow.python.training.tracking.util.CheckpointLoadStatus at 0x7f72551d2f50>"
            ]
          },
          "metadata": {
            "tags": []
          },
          "execution_count": 59
        }
      ]
    },
    {
      "cell_type": "code",
      "metadata": {
        "colab": {
          "base_uri": "https://localhost:8080/",
          "height": 676
        },
        "id": "XOKM-g6aF-29",
        "outputId": "dc0ad58a-733d-4594-9a7e-5bd7f6f43af1"
      },
      "source": [
        "#it is terribly cold here\n",
        "translate(u'hace mucho frio aqui.')"
      ],
      "execution_count": 60,
      "outputs": [
        {
          "output_type": "stream",
          "text": [
            "Input: <start> hace mucho frio aqui . <end>\n",
            "Predicted translation: it s very cold here . <end> \n"
          ],
          "name": "stdout"
        },
        {
          "output_type": "display_data",
          "data": {
            "image/png": "[encoded data removed]",
            "text/plain": [
              "<Figure size 720x720 with 1 Axes>"
            ]
          },
          "metadata": {
            "tags": [],
            "needs_background": "light"
          }
        }
      ]
    },
    {
      "cell_type": "code",
      "metadata": {
        "colab": {
          "base_uri": "https://localhost:8080/",
          "height": 676
        },
        "id": "9zARsmEHF-29",
        "outputId": "dd18ee16-d4af-4d57-9be6-837c212a0696"
      },
      "source": [
        "translate(u'esta es mi vida.')"
      ],
      "execution_count": 61,
      "outputs": [
        {
          "output_type": "stream",
          "text": [
            "Input: <start> esta es mi vida . <end>\n",
            "Predicted translation: this is my life . <end> \n"
          ],
          "name": "stdout"
        },
        {
          "output_type": "display_data",
          "data": {
            "image/png": "[encoded data removed]",
            "text/plain": [
              "<Figure size 720x720 with 1 Axes>"
            ]
          },
          "metadata": {
            "tags": [],
            "needs_background": "light"
          }
        }
      ]
    },
    {
      "cell_type": "code",
      "metadata": {
        "colab": {
          "base_uri": "https://localhost:8080/",
          "height": 676
        },
        "id": "gICXvqiNF-29",
        "outputId": "d7cd7c2d-de1b-4c64-9920-6e0e21dd7e1e"
      },
      "source": [
        "translate(u'¿todavia estan en casa?')"
      ],
      "execution_count": 62,
      "outputs": [
        {
          "output_type": "stream",
          "text": [
            "Input: <start> ¿ todavia estan en casa ? <end>\n",
            "Predicted translation: are you still at home ? <end> \n"
          ],
          "name": "stdout"
        },
        {
          "output_type": "display_data",
          "data": {
            "image/png": "[encoded data removed]",
            "text/plain": [
              "<Figure size 720x720 with 1 Axes>"
            ]
          },
          "metadata": {
            "tags": [],
            "needs_background": "light"
          }
        }
      ]
    },
    {
      "cell_type": "code",
      "metadata": {
        "colab": {
          "base_uri": "https://localhost:8080/",
          "height": 700
        },
        "id": "0CE3oSRmF-29",
        "outputId": "c50fd2c2-155c-46e3-cf3e-193e97461ed0"
      },
      "source": [
        "translate(u'trata de averiguarlo.')"
      ],
      "execution_count": 63,
      "outputs": [
        {
          "output_type": "stream",
          "text": [
            "Input: <start> trata de averiguarlo . <end>\n",
            "Predicted translation: try to figure it out . <end> \n"
          ],
          "name": "stdout"
        },
        {
          "output_type": "display_data",
          "data": {
            "image/png": "[encoded data removed]",
            "text/plain": [
              "<Figure size 720x720 with 1 Axes>"
            ]
          },
          "metadata": {
            "tags": [],
            "needs_background": "light"
          }
        }
      ]
    },
    {
      "cell_type": "code",
      "metadata": {
        "colab": {
          "base_uri": "https://localhost:8080/",
          "height": 676
        },
        "id": "qco0dZ1UF-2-",
        "outputId": "3e5af00e-264a-41ab-e41e-0bcb60746a94"
      },
      "source": [
        "translate(u'Hoy es un buen día')"
      ],
      "execution_count": 64,
      "outputs": [
        {
          "output_type": "stream",
          "text": [
            "Input: <start> hoy es un buen dia <end>\n",
            "Predicted translation: today is a good day now . <end> \n"
          ],
          "name": "stdout"
        },
        {
          "output_type": "display_data",
          "data": {
            "image/png": "[encoded data removed]",
            "text/plain": [
              "<Figure size 720x720 with 1 Axes>"
            ]
          },
          "metadata": {
            "tags": [],
            "needs_background": "light"
          }
        }
      ]
    }
  ]
}